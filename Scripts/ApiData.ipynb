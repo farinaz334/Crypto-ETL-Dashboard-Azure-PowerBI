{
 "cells": [
  {
   "cell_type": "code",
   "execution_count": 22,
   "id": "d17c9b3e-e57b-4817-9dad-bb7c93be210e",
   "metadata": {},
   "outputs": [],
   "source": [
    "#Librarries"
   ]
  },
  {
   "cell_type": "code",
   "execution_count": null,
   "id": "2b821aa9-c8b5-4b90-ac45-8de7e547a67b",
   "metadata": {},
   "outputs": [],
   "source": [
    "#!pip install requests\n",
    "#!pip install pandas"
   ]
  },
  {
   "cell_type": "code",
   "execution_count": 26,
   "id": "12bc04ef-ca31-4e45-872e-5e081363dd1b",
   "metadata": {},
   "outputs": [],
   "source": [
    "import requests\n",
    "import base64\n",
    "import json\n",
    "import pandas as pd\n",
    "from datetime import datetime, timedelta\n",
    "import time"
   ]
  },
  {
   "cell_type": "code",
   "execution_count": 38,
   "id": "6e9e79dc-29a4-4628-855b-74db11ebaed7",
   "metadata": {
    "scrolled": true
   },
   "outputs": [
    {
     "name": "stdout",
     "output_type": "stream",
     "text": [
      "Status: 200\n",
      "Response: [{'id': 'ethereum', 'symbol': 'eth', 'name': 'Ethereum', 'image': 'https://coin-images.coingecko.com/coins/images/279/large/ethereum.png?1696501628', 'current_price': 2610.73, 'market_cap': 315222943824, 'market_cap_rank': 2, 'fully_diluted_valuation': 315222943824, 'total_volume': 25170038545, 'high_24h': 2611.31, 'low_24h': 2498.01, 'price_change_24h': 72.58, 'price_change_percentage_24h': 2.85943, 'market_cap_change_24h': 8772633976, 'market_cap_change_percentage_24h': 2.86266, 'circulating_supply': 120727923.2786977, 'total_supply': 120727923.2786977, 'max_supply': None, 'ath': 4878.26, 'ath_change_percentage': -46.47306, 'ath_date': '2021-11-10T14:24:19.604Z', 'atl': 0.432979, 'atl_change_percentage': 602974.1873, 'atl_date': '2015-10-20T00:00:00.000Z', 'roi': {'times': 32.6254683708478, 'currency': 'btc', 'percentage': 3262.5468370847793}, 'last_updated': '2025-05-16T10:04:44.742Z'}, {'id': 'solana', 'symbol': 'sol', 'name': 'Solana', 'image': 'https://coin-images.coingecko.com/coins/images/4128/large/solana.png?1718769756', 'current_price': 172.01, 'market_cap': 89384963885, 'market_cap_rank': 6, 'fully_diluted_valuation': 103333389102, 'total_volume': 5367553184, 'high_24h': 173.98, 'low_24h': 168.0, 'price_change_24h': 1.45, 'price_change_percentage_24h': 0.84904, 'market_cap_change_24h': 672426393, 'market_cap_change_percentage_24h': 0.75798, 'circulating_supply': 519699082.6022239, 'total_supply': 600797552.3463006, 'max_supply': None, 'ath': 293.31, 'ath_change_percentage': -41.3874, 'ath_date': '2025-01-19T11:15:27.957Z', 'atl': 0.500801, 'atl_change_percentage': 34228.54446, 'atl_date': '2020-05-11T19:35:23.449Z', 'roi': None, 'last_updated': '2025-05-16T10:04:44.299Z'}, {'id': 'cardano', 'symbol': 'ada', 'name': 'Cardano', 'image': 'https://coin-images.coingecko.com/coins/images/975/large/cardano.png?1696502090', 'current_price': 0.777671, 'market_cap': 28038629722, 'market_cap_rank': 9, 'fully_diluted_valuation': 34993141623, 'total_volume': 1173717926, 'high_24h': 0.790536, 'low_24h': 0.751045, 'price_change_24h': 0.00683668, 'price_change_percentage_24h': 0.88692, 'market_cap_change_24h': 245140627, 'market_cap_change_percentage_24h': 0.88201, 'circulating_supply': 36056732233.05023, 'total_supply': 45000000000.0, 'max_supply': 45000000000.0, 'ath': 3.09, 'ath_change_percentage': -74.81358, 'ath_date': '2021-09-02T06:00:10.474Z', 'atl': 0.01925275, 'atl_change_percentage': 3938.29249, 'atl_date': '2020-03-13T02:22:55.044Z', 'roi': None, 'last_updated': '2025-05-16T10:04:44.180Z'}, {'id': 'chainlink', 'symbol': 'link', 'name': 'Chainlink', 'image': 'https://coin-images.coingecko.com/coins/images/877/large/chainlink-new-logo.png?1696502009', 'current_price': 16.35, 'market_cap': 10744671922, 'market_cap_rank': 15, 'fully_diluted_valuation': 16351654855, 'total_volume': 652792044, 'high_24h': 16.63, 'low_24h': 15.85, 'price_change_24h': 0.075749, 'price_change_percentage_24h': 0.46535, 'market_cap_change_24h': 40278435, 'market_cap_change_percentage_24h': 0.37628, 'circulating_supply': 657099970.4527868, 'total_supply': 1000000000.0, 'max_supply': 1000000000.0, 'ath': 52.7, 'ath_change_percentage': -68.9677, 'ath_date': '2021-05-10T00:13:57.214Z', 'atl': 0.148183, 'atl_change_percentage': 10935.64167, 'atl_date': '2017-11-29T00:00:00.000Z', 'roi': None, 'last_updated': '2025-05-16T10:04:48.306Z'}, {'id': 'avalanche-2', 'symbol': 'avax', 'name': 'Avalanche', 'image': 'https://coin-images.coingecko.com/coins/images/12559/large/Avalanche_Circle_RedWhite_Trans.png?1696512369', 'current_price': 23.72, 'market_cap': 9934357519, 'market_cap_rank': 16, 'fully_diluted_valuation': 10804235837, 'total_volume': 541720946, 'high_24h': 24.1, 'low_24h': 23.2, 'price_change_24h': -0.07451333174951813, 'price_change_percentage_24h': -0.31309, 'market_cap_change_24h': -35610958.660821915, 'market_cap_change_percentage_24h': -0.35718, 'circulating_supply': 418776636.3489901, 'total_supply': 455445813.5387327, 'max_supply': 720000000.0, 'ath': 144.96, 'ath_change_percentage': -83.6365, 'ath_date': '2021-11-21T14:18:56.538Z', 'atl': 2.8, 'atl_change_percentage': 746.8471, 'atl_date': '2020-12-31T13:15:21.540Z', 'roi': None, 'last_updated': '2025-05-16T10:04:44.090Z'}]\n"
     ]
    }
   ],
   "source": [
    "#API address\n",
    "url = \"https://api.coingecko.com/api/v3/coins/markets\"\n",
    "\n",
    "#Mandatory_parameters\n",
    "params = {\n",
    "    \"vs_currency\": \"usd\",  # Required!\n",
    "    \"ids\": \"ethereum,solana,cardano,avalanche-2,chainlink\"\n",
    "}\n",
    "\n",
    "#Fetching_Data\n",
    "response = requests.get(url, params=params)\n",
    "\n",
    "print(\"Status:\", response.status_code)\n",
    "print(\"Response:\", response.json())\n"
   ]
  },
  {
   "cell_type": "code",
   "execution_count": 32,
   "id": "d546039f-4b9f-43ab-b029-457eacec1c90",
   "metadata": {},
   "outputs": [
    {
     "name": "stdout",
     "output_type": "stream",
     "text": [
      "        name symbol  current_price    market_cap  total_volume      ath  \\\n",
      "0   Ethereum    eth    2561.340000  309106094205   23002685218  4878.26   \n",
      "1     Solana    sol     171.510000   89158418005    4835111818   293.31   \n",
      "2    Cardano    ada       0.771921   27839048574    1005930686     3.09   \n",
      "3  Chainlink   link      16.350000   10741209333     534885784    52.70   \n",
      "4  Avalanche   avax      23.880000    9999535888     535649740   144.96   \n",
      "\n",
      "        atl  \n",
      "0  0.432979  \n",
      "1  0.500801  \n",
      "2  0.019253  \n",
      "3  0.148183  \n",
      "4  2.800000  \n"
     ]
    }
   ],
   "source": [
    "#Checking_Schema\n",
    "data = response.json()\n",
    "\n",
    "# Convert to DataFrame\n",
    "df = pd.DataFrame(data)\n",
    "\n",
    "# View selected columns\n",
    "print(df[['name', 'symbol', 'current_price', 'market_cap', 'total_volume', 'ath', 'atl']])\n"
   ]
  },
  {
   "cell_type": "markdown",
   "id": "81adb60f-9172-41dd-9b1c-7bcd962ac86f",
   "metadata": {},
   "source": [
    "# Handling API Timing Issues in Historical Crypto Data Collection.\n",
    "#### When collecting 30 days of historical data using CoinGecko's /history endpoint, we ran into a key issue (HTTP 429 — Too Many Requests).\n",
    "#### Since CoinGecko limits how fast you can make API calls, and we had 180 API calls (6 coins × 30 days).\n",
    "\n",
    "### Solution:\n",
    "#### 1- We Used \"time.sleep(2)\" between requests ==> Slows down the pace to avoid hitting the limit.\n",
    "#### 2- If we get rate-limited, we wait 60 seconds, then retry (up to 3 times)\n",
    "\n"
   ]
  },
  {
   "cell_type": "code",
   "execution_count": 39,
   "id": "6a6bc412-a1d7-4a10-a35c-16430b4fe48f",
   "metadata": {
    "scrolled": true
   },
   "outputs": [
    {
     "name": "stdout",
     "output_type": "stream",
     "text": [
      " Rate limited for bitcoin on 11-05-2025. Waiting 60 seconds...\n",
      " Rate limited for bitcoin on 06-05-2025. Waiting 60 seconds...\n",
      " Rate limited for bitcoin on 04-05-2025. Waiting 60 seconds...\n",
      " Rate limited for bitcoin on 30-04-2025. Waiting 60 seconds...\n",
      " Rate limited for bitcoin on 26-04-2025. Waiting 60 seconds...\n",
      " Rate limited for bitcoin on 21-04-2025. Waiting 60 seconds...\n",
      " Rate limited for ethereum on 16-05-2025. Waiting 60 seconds...\n",
      " Rate limited for ethereum on 11-05-2025. Waiting 60 seconds...\n",
      " Rate limited for ethereum on 09-05-2025. Waiting 60 seconds...\n",
      " Rate limited for ethereum on 05-05-2025. Waiting 60 seconds...\n",
      " Rate limited for ethereum on 01-05-2025. Waiting 60 seconds...\n",
      " Rate limited for ethereum on 26-04-2025. Waiting 60 seconds...\n",
      " Rate limited for ethereum on 20-04-2025. Waiting 60 seconds...\n",
      " Rate limited for solana on 15-05-2025. Waiting 60 seconds...\n",
      " Rate limited for solana on 13-05-2025. Waiting 60 seconds...\n",
      " Rate limited for solana on 09-05-2025. Waiting 60 seconds...\n",
      " Rate limited for solana on 05-05-2025. Waiting 60 seconds...\n",
      " Rate limited for solana on 30-04-2025. Waiting 60 seconds...\n",
      " Rate limited for solana on 24-04-2025. Waiting 60 seconds...\n",
      " Rate limited for solana on 20-04-2025. Waiting 60 seconds...\n",
      " Rate limited for solana on 17-04-2025. Waiting 60 seconds...\n",
      " Rate limited for cardano on 13-05-2025. Waiting 60 seconds...\n",
      " Rate limited for cardano on 09-05-2025. Waiting 60 seconds...\n",
      " Rate limited for cardano on 04-05-2025. Waiting 60 seconds...\n",
      " Rate limited for cardano on 28-04-2025. Waiting 60 seconds...\n",
      " Rate limited for cardano on 25-04-2025. Waiting 60 seconds...\n",
      " Rate limited for cardano on 21-04-2025. Waiting 60 seconds...\n",
      " Rate limited for cardano on 17-04-2025. Waiting 60 seconds...\n",
      " Rate limited for avalanche-2 on 13-05-2025. Waiting 60 seconds...\n",
      " Rate limited for avalanche-2 on 08-05-2025. Waiting 60 seconds...\n",
      " Rate limited for avalanche-2 on 02-05-2025. Waiting 60 seconds...\n",
      " Rate limited for avalanche-2 on 29-04-2025. Waiting 60 seconds...\n",
      " Rate limited for avalanche-2 on 25-04-2025. Waiting 60 seconds...\n",
      " Rate limited for avalanche-2 on 21-04-2025. Waiting 60 seconds...\n",
      " Rate limited for chainlink on 16-05-2025. Waiting 60 seconds...\n",
      " Rate limited for chainlink on 11-05-2025. Waiting 60 seconds...\n",
      " Rate limited for chainlink on 05-05-2025. Waiting 60 seconds...\n",
      " Rate limited for chainlink on 03-05-2025. Waiting 60 seconds...\n",
      " Rate limited for chainlink on 29-04-2025. Waiting 60 seconds...\n",
      " Rate limited for chainlink on 25-04-2025. Waiting 60 seconds...\n",
      " Rate limited for chainlink on 20-04-2025. Waiting 60 seconds...\n",
      "Saved historical data to full_crypto_history_30days.json\n"
     ]
    }
   ],
   "source": [
    "#Set parameters\n",
    "coins = ['bitcoin', 'ethereum', 'solana', 'cardano', 'avalanche-2', 'chainlink']\n",
    "currency = 'gbp'\n",
    "days = 30\n",
    "headers = {'User-Agent': 'CryptoDashboardADF/1.0'}\n",
    "MAX_RETRIES = 3   #Retry up to 3 times on error 429\n",
    "\n",
    "all_data = []   #Collect all results here\n",
    "\n",
    "#Loop through each coin for each the past 30 days\n",
    "for coin in coins:\n",
    "    for i in range(days):\n",
    "        #Format date as DD-MM-YYYY (required by CoinGecko's history endpoint)\n",
    "        date = (datetime.now() - timedelta(days=i)).strftime('%d-%m-%Y')\n",
    "        \n",
    "        #Call CoinGecko's history endpoint (one API call per day per coin)\n",
    "        url = f\"https://api.coingecko.com/api/v3/coins/{coin}/history\"\n",
    "        params = {'date': date, 'localization': 'false'}\n",
    "\n",
    "        #Retry mechanism to handle rate limiting (429)\n",
    "        for attempt in range(MAX_RETRIES):\n",
    "            response = requests.get(url, params=params, headers=headers)\n",
    "            if response.status_code == 200:\n",
    "                break   #Success\n",
    "         \n",
    "            elif response.status_code == 429:\n",
    "                print(f\" Rate limited for {coin} on {date}. Waiting 60 seconds...\")\n",
    "                time.sleep(60)  #Wait a full minute, then retry\n",
    "            else:\n",
    "                print(f\" Failed for {coin} on {date}: {response.status_code}\")\n",
    "                break  # Other error — do not retry\n",
    "\n",
    "         #If respons's OK, extract and store the data\n",
    "        if response.status_code == 200:\n",
    "            data = response.json()\n",
    "            market = data.get('market_data', {})\n",
    "            if market:  #Only proceed if market data is available\n",
    "                all_data.append({\n",
    "                    'id': coin,\n",
    "                    'symbol': data.get('symbol', ''),\n",
    "                    'name': data.get('name', ''),\n",
    "                    'current_price': market.get('current_price', {}).get(currency),\n",
    "                    'market_cap': market.get('market_cap', {}).get(currency),\n",
    "                    'total_volume': market.get('total_volume', {}).get(currency),\n",
    "                    'high_24h': market.get('high_24h', {}).get(currency),\n",
    "                    'low_24h': market.get('low_24h', {}).get(currency),\n",
    "                    'price_change_24h': market.get('price_change_24h'),\n",
    "                    'price_change_percentage_24h': market.get('price_change_percentage_24h'),\n",
    "                    'market_cap_change_24h': market.get('market_cap_change_24h'),\n",
    "                    'market_cap_change_percentage_24h': market.get('market_cap_change_percentage_24h'),\n",
    "                    'circulating_supply': market.get('circulating_supply'),\n",
    "                    'total_supply': market.get('total_supply'),\n",
    "                    'ath': market.get('ath', {}).get(currency),\n",
    "                    'atl': market.get('atl', {}).get(currency),\n",
    "                    'ath_change_percentage': market.get('ath_change_percentage', {}).get(currency),\n",
    "                    'atl_change_percentage': market.get('atl_change_percentage', {}).get(currency),\n",
    "                    'ath_date': market.get('ath_date', {}).get(currency),\n",
    "                    'atl_date': market.get('atl_date', {}).get(currency),\n",
    "                    'last_updated': f\"{(datetime.now() - timedelta(days=i)).strftime('%Y-%m-%dT00:00:00')}\"\n",
    "                })\n",
    "            else:\n",
    "                print(f\"No market data for {coin} on {date}\")\n",
    "        time.sleep(2)  #Always wait 2 seconds between requests to avoid hitting limits\n",
    "\n",
    "# Save to JSON\n",
    "df = pd.DataFrame(all_data)\n",
    "df.to_json(\"full_crypto_history_30days.json\", orient=\"records\", indent=4)\n",
    "print(\"Saved historical data to full_crypto_history_30days.json\")\n"
   ]
  },
  {
   "cell_type": "code",
   "execution_count": null,
   "id": "d9d04001-dff2-4503-8687-3f36d4e17752",
   "metadata": {},
   "outputs": [],
   "source": []
  }
 ],
 "metadata": {
  "kernelspec": {
   "display_name": "Python 3 (ipykernel)",
   "language": "python",
   "name": "python3"
  },
  "language_info": {
   "codemirror_mode": {
    "name": "ipython",
    "version": 3
   },
   "file_extension": ".py",
   "mimetype": "text/x-python",
   "name": "python",
   "nbconvert_exporter": "python",
   "pygments_lexer": "ipython3",
   "version": "3.12.9"
  }
 },
 "nbformat": 4,
 "nbformat_minor": 5
}
